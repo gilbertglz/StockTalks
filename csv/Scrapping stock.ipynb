{
 "cells": [
  {
   "cell_type": "code",
   "execution_count": 1,
   "metadata": {},
   "outputs": [],
   "source": [
    "import pandas as pd\n",
    "import numpy as np\n",
    "import matplotlib.pyplot as plt\n",
    "import seaborn as sns\n",
    "from pandas_datareader import DataReader\n",
    "from datetime import datetime as dt\n",
    "%matplotlib inline"
   ]
  },
  {
   "cell_type": "code",
   "execution_count": 3,
   "metadata": {},
   "outputs": [
    {
     "name": "stdout",
     "output_type": "stream",
     "text": [
      "2001-01-25 00:00:00 to 2021-01-25 17:50:30.906945\n"
     ]
    }
   ],
   "source": [
    "stock_lst = ['ADMP','GOOG','TCS.NS','TTM','INFY','AMZN','MSFT','FB','INTC','IBM','WIT','DIS','RELIANCE.NS','LEN','IRCTC.NS']\n",
    "end_date = dt.now()\n",
    "start_date = dt(end_date.year-20,end_date.month,end_date.day)\n",
    "print(start_date ,'to', end_date)"
   ]
  },
  {
   "cell_type": "code",
   "execution_count": 4,
   "metadata": {},
   "outputs": [],
   "source": [
    "for stock in stock_lst:\n",
    "    globals()[stock] = DataReader(stock,'yahoo',start_date,end_date)"
   ]
  },
  {
   "cell_type": "code",
   "execution_count": 5,
   "metadata": {},
   "outputs": [],
   "source": [
    "company_list=['Adamis Pharmaceuticals Corporation','Alphabet Inc.','Tata Consultancy Services Limited','Tata Motors Limited',\n",
    "              'Infosys Limited','Amazon.com, Inc.','Microsoft Corporation','Facebook, Inc.','Intel Corporation','International Business Machines Corporation',\n",
    "             'Wipro Limited','The Walt Disney Company','Reliance Industries Limited','Lennar Corporation','Indian Railway Catering & Tourism Corporation Limited',\n",
    "             ]\n",
    "for stock,company in zip(stock_lst,company_list):\n",
    "    google_Stock = globals()[stock]\n",
    "    google_Stock['Company']=company\n",
    "    google_Stock.to_csv(company+'stock.csv')"
   ]
  },
  {
   "cell_type": "code",
   "execution_count": null,
   "metadata": {},
   "outputs": [],
   "source": []
  }
 ],
 "metadata": {
  "kernelspec": {
   "display_name": "Python 3",
   "language": "python",
   "name": "python3"
  },
  "language_info": {
   "codemirror_mode": {
    "name": "ipython",
    "version": 3
   },
   "file_extension": ".py",
   "mimetype": "text/x-python",
   "name": "python",
   "nbconvert_exporter": "python",
   "pygments_lexer": "ipython3",
   "version": "3.8.5"
  }
 },
 "nbformat": 4,
 "nbformat_minor": 4
}
